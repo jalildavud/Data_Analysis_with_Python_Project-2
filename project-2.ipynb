{
 "cells": [
  {
   "cell_type": "markdown",
   "id": "2072457e-0b46-48d0-8ae6-16b2a9e4b2a1",
   "metadata": {},
   "source": [
    "Police Dataset"
   ]
  },
  {
   "cell_type": "markdown",
   "id": "41291bca",
   "metadata": {},
   "source": [
    "Project Outlines"
   ]
  },
  {
   "cell_type": "markdown",
   "id": "58d0081e",
   "metadata": {},
   "source": [
    "Descriptive Analysis:\n",
    "\n",
    "<li>Calculate summary statistics for numerical columns like driver_age and driver_age_raw.</li>\n",
    "<li>Analyze the distribution of driver ages, races, genders, and violation types.</li>\n",
    "<li>Determine the most common violations and outcomes of stops.</li>\n",
    "\n",
    "Time-Based Analysis:\n",
    "\n",
    "<li>Analyze the distribution of traffic stops over different days of the week, months, or years.</li>\n",
    "<li>Identify any patterns in the time of day when most stops occur.</li>\n",
    "<li>Explore if there are certain days or times when certain violations are more common.</li>\n",
    "\n",
    "Gender and Race Analysis:\n",
    "\n",
    "<li>Investigate whether there are disparities in the frequency of stops, outcomes, or violations based on driver gender and race.</li>\n",
    "<li>Calculate the proportions of different races and genders involved in traffic stops.</li>\n",
    "\n",
    "Violation Analysis:\n",
    "\n",
    "<li>Group and summarize data based on different types of violations.</li>\n",
    "<li>Analyze the correlation between violations and stop outcomes (e.g., citation, arrest).</li>\n",
    "\n",
    "Search and Arrest Analysis:\n",
    "\n",
    "<li>Examine the frequency of searches conducted during stops.</li>\n",
    "<li>Analyze the types of searches performed and their outcomes.</li>\n",
    "<li>Investigate whether there are any trends or disparities in arrests based on different factors.</li>\n",
    "\n",
    "Duration Analysis:\n",
    "\n",
    "<li>Explore the distribution of stop durations.</li>\n",
    "<li>Analyze whether the duration of stops varies based on factors like violations or search conducted.</li>\n"
   ]
  },
  {
   "cell_type": "code",
   "execution_count": 1,
   "id": "f162a33c-8234-49c5-a19c-59ad54b38534",
   "metadata": {},
   "outputs": [],
   "source": [
    "import pandas as pd\n",
    "import matplotlib.pyplot as plt\n",
    "import seaborn as sns"
   ]
  },
  {
   "cell_type": "code",
   "execution_count": 2,
   "id": "7492d71d-9401-420c-abaa-b71457e659a5",
   "metadata": {},
   "outputs": [],
   "source": [
    "df=pd.read_csv(\"3. Police Data.csv\")"
   ]
  },
  {
   "cell_type": "code",
   "execution_count": 3,
   "id": "140d60bc-32bf-47f2-ac6a-9f4660f3065a",
   "metadata": {},
   "outputs": [
    {
     "data": {
      "text/html": [
       "<div>\n",
       "<style scoped>\n",
       "    .dataframe tbody tr th:only-of-type {\n",
       "        vertical-align: middle;\n",
       "    }\n",
       "\n",
       "    .dataframe tbody tr th {\n",
       "        vertical-align: top;\n",
       "    }\n",
       "\n",
       "    .dataframe thead th {\n",
       "        text-align: right;\n",
       "    }\n",
       "</style>\n",
       "<table border=\"1\" class=\"dataframe\">\n",
       "  <thead>\n",
       "    <tr style=\"text-align: right;\">\n",
       "      <th></th>\n",
       "      <th>stop_date</th>\n",
       "      <th>stop_time</th>\n",
       "      <th>country_name</th>\n",
       "      <th>driver_gender</th>\n",
       "      <th>driver_age_raw</th>\n",
       "      <th>driver_age</th>\n",
       "      <th>driver_race</th>\n",
       "      <th>violation_raw</th>\n",
       "      <th>violation</th>\n",
       "      <th>search_conducted</th>\n",
       "      <th>search_type</th>\n",
       "      <th>stop_outcome</th>\n",
       "      <th>is_arrested</th>\n",
       "      <th>stop_duration</th>\n",
       "      <th>drugs_related_stop</th>\n",
       "    </tr>\n",
       "  </thead>\n",
       "  <tbody>\n",
       "    <tr>\n",
       "      <th>0</th>\n",
       "      <td>1/2/2005</td>\n",
       "      <td>1:55</td>\n",
       "      <td>NaN</td>\n",
       "      <td>M</td>\n",
       "      <td>1985.0</td>\n",
       "      <td>20.0</td>\n",
       "      <td>White</td>\n",
       "      <td>Speeding</td>\n",
       "      <td>Speeding</td>\n",
       "      <td>False</td>\n",
       "      <td>NaN</td>\n",
       "      <td>Citation</td>\n",
       "      <td>False</td>\n",
       "      <td>0-15 Min</td>\n",
       "      <td>False</td>\n",
       "    </tr>\n",
       "    <tr>\n",
       "      <th>1</th>\n",
       "      <td>1/18/2005</td>\n",
       "      <td>8:15</td>\n",
       "      <td>NaN</td>\n",
       "      <td>M</td>\n",
       "      <td>1965.0</td>\n",
       "      <td>40.0</td>\n",
       "      <td>White</td>\n",
       "      <td>Speeding</td>\n",
       "      <td>Speeding</td>\n",
       "      <td>False</td>\n",
       "      <td>NaN</td>\n",
       "      <td>Citation</td>\n",
       "      <td>False</td>\n",
       "      <td>0-15 Min</td>\n",
       "      <td>False</td>\n",
       "    </tr>\n",
       "    <tr>\n",
       "      <th>2</th>\n",
       "      <td>1/23/2005</td>\n",
       "      <td>23:15</td>\n",
       "      <td>NaN</td>\n",
       "      <td>M</td>\n",
       "      <td>1972.0</td>\n",
       "      <td>33.0</td>\n",
       "      <td>White</td>\n",
       "      <td>Speeding</td>\n",
       "      <td>Speeding</td>\n",
       "      <td>False</td>\n",
       "      <td>NaN</td>\n",
       "      <td>Citation</td>\n",
       "      <td>False</td>\n",
       "      <td>0-15 Min</td>\n",
       "      <td>False</td>\n",
       "    </tr>\n",
       "    <tr>\n",
       "      <th>3</th>\n",
       "      <td>2/20/2005</td>\n",
       "      <td>17:15</td>\n",
       "      <td>NaN</td>\n",
       "      <td>M</td>\n",
       "      <td>1986.0</td>\n",
       "      <td>19.0</td>\n",
       "      <td>White</td>\n",
       "      <td>Call for Service</td>\n",
       "      <td>Other</td>\n",
       "      <td>False</td>\n",
       "      <td>NaN</td>\n",
       "      <td>Arrest Driver</td>\n",
       "      <td>True</td>\n",
       "      <td>16-30 Min</td>\n",
       "      <td>False</td>\n",
       "    </tr>\n",
       "    <tr>\n",
       "      <th>4</th>\n",
       "      <td>3/14/2005</td>\n",
       "      <td>10:00</td>\n",
       "      <td>NaN</td>\n",
       "      <td>F</td>\n",
       "      <td>1984.0</td>\n",
       "      <td>21.0</td>\n",
       "      <td>White</td>\n",
       "      <td>Speeding</td>\n",
       "      <td>Speeding</td>\n",
       "      <td>False</td>\n",
       "      <td>NaN</td>\n",
       "      <td>Citation</td>\n",
       "      <td>False</td>\n",
       "      <td>0-15 Min</td>\n",
       "      <td>False</td>\n",
       "    </tr>\n",
       "  </tbody>\n",
       "</table>\n",
       "</div>"
      ],
      "text/plain": [
       "   stop_date stop_time  country_name driver_gender  driver_age_raw  \\\n",
       "0   1/2/2005      1:55           NaN             M          1985.0   \n",
       "1  1/18/2005      8:15           NaN             M          1965.0   \n",
       "2  1/23/2005     23:15           NaN             M          1972.0   \n",
       "3  2/20/2005     17:15           NaN             M          1986.0   \n",
       "4  3/14/2005     10:00           NaN             F          1984.0   \n",
       "\n",
       "   driver_age driver_race     violation_raw violation  search_conducted  \\\n",
       "0        20.0       White          Speeding  Speeding             False   \n",
       "1        40.0       White          Speeding  Speeding             False   \n",
       "2        33.0       White          Speeding  Speeding             False   \n",
       "3        19.0       White  Call for Service     Other             False   \n",
       "4        21.0       White          Speeding  Speeding             False   \n",
       "\n",
       "  search_type   stop_outcome is_arrested stop_duration  drugs_related_stop  \n",
       "0         NaN       Citation       False      0-15 Min               False  \n",
       "1         NaN       Citation       False      0-15 Min               False  \n",
       "2         NaN       Citation       False      0-15 Min               False  \n",
       "3         NaN  Arrest Driver        True     16-30 Min               False  \n",
       "4         NaN       Citation       False      0-15 Min               False  "
      ]
     },
     "execution_count": 3,
     "metadata": {},
     "output_type": "execute_result"
    }
   ],
   "source": [
    "df.head()"
   ]
  },
  {
   "cell_type": "code",
   "execution_count": 4,
   "id": "2db3fcdb-9377-4fde-9f3c-2a590d74102a",
   "metadata": {},
   "outputs": [
    {
     "data": {
      "text/plain": [
       "(65535, 15)"
      ]
     },
     "execution_count": 4,
     "metadata": {},
     "output_type": "execute_result"
    }
   ],
   "source": [
    "df.shape"
   ]
  },
  {
   "cell_type": "code",
   "execution_count": 5,
   "id": "e8ca76b5-5123-4a75-b2ef-0565e0f03081",
   "metadata": {},
   "outputs": [
    {
     "data": {
      "text/plain": [
       "stop_date                 0\n",
       "stop_time                 0\n",
       "country_name          65535\n",
       "driver_gender          4061\n",
       "driver_age_raw         4054\n",
       "driver_age             4307\n",
       "driver_race            4060\n",
       "violation_raw          4060\n",
       "violation              4060\n",
       "search_conducted          0\n",
       "search_type           63056\n",
       "stop_outcome           4060\n",
       "is_arrested            4060\n",
       "stop_duration          4060\n",
       "drugs_related_stop        0\n",
       "dtype: int64"
      ]
     },
     "execution_count": 5,
     "metadata": {},
     "output_type": "execute_result"
    }
   ],
   "source": [
    "df.isnull().sum()"
   ]
  },
  {
   "cell_type": "code",
   "execution_count": 6,
   "id": "e87ca10b",
   "metadata": {},
   "outputs": [
    {
     "data": {
      "text/plain": [
       "stop_date              object\n",
       "stop_time              object\n",
       "country_name          float64\n",
       "driver_gender          object\n",
       "driver_age_raw        float64\n",
       "driver_age            float64\n",
       "driver_race            object\n",
       "violation_raw          object\n",
       "violation              object\n",
       "search_conducted         bool\n",
       "search_type            object\n",
       "stop_outcome           object\n",
       "is_arrested            object\n",
       "stop_duration          object\n",
       "drugs_related_stop       bool\n",
       "dtype: object"
      ]
     },
     "execution_count": 6,
     "metadata": {},
     "output_type": "execute_result"
    }
   ],
   "source": [
    "df.dtypes"
   ]
  },
  {
   "cell_type": "code",
   "execution_count": 7,
   "id": "05d1fcd7-cd34-495d-a159-4e2b78c2a5b6",
   "metadata": {},
   "outputs": [],
   "source": [
    "df.drop(columns=[\"country_name\", \"search_type\"], inplace= True)"
   ]
  },
  {
   "cell_type": "code",
   "execution_count": 8,
   "id": "feebc3f1-abc6-4e7e-b9ff-e6c8b0a44165",
   "metadata": {},
   "outputs": [
    {
     "data": {
      "text/html": [
       "<div>\n",
       "<style scoped>\n",
       "    .dataframe tbody tr th:only-of-type {\n",
       "        vertical-align: middle;\n",
       "    }\n",
       "\n",
       "    .dataframe tbody tr th {\n",
       "        vertical-align: top;\n",
       "    }\n",
       "\n",
       "    .dataframe thead th {\n",
       "        text-align: right;\n",
       "    }\n",
       "</style>\n",
       "<table border=\"1\" class=\"dataframe\">\n",
       "  <thead>\n",
       "    <tr style=\"text-align: right;\">\n",
       "      <th></th>\n",
       "      <th>stop_date</th>\n",
       "      <th>stop_time</th>\n",
       "      <th>driver_gender</th>\n",
       "      <th>driver_age_raw</th>\n",
       "      <th>driver_age</th>\n",
       "      <th>driver_race</th>\n",
       "      <th>violation_raw</th>\n",
       "      <th>violation</th>\n",
       "      <th>search_conducted</th>\n",
       "      <th>stop_outcome</th>\n",
       "      <th>is_arrested</th>\n",
       "      <th>stop_duration</th>\n",
       "      <th>drugs_related_stop</th>\n",
       "    </tr>\n",
       "  </thead>\n",
       "  <tbody>\n",
       "    <tr>\n",
       "      <th>0</th>\n",
       "      <td>1/2/2005</td>\n",
       "      <td>1:55</td>\n",
       "      <td>M</td>\n",
       "      <td>1985.0</td>\n",
       "      <td>20.0</td>\n",
       "      <td>White</td>\n",
       "      <td>Speeding</td>\n",
       "      <td>Speeding</td>\n",
       "      <td>False</td>\n",
       "      <td>Citation</td>\n",
       "      <td>False</td>\n",
       "      <td>0-15 Min</td>\n",
       "      <td>False</td>\n",
       "    </tr>\n",
       "    <tr>\n",
       "      <th>1</th>\n",
       "      <td>1/18/2005</td>\n",
       "      <td>8:15</td>\n",
       "      <td>M</td>\n",
       "      <td>1965.0</td>\n",
       "      <td>40.0</td>\n",
       "      <td>White</td>\n",
       "      <td>Speeding</td>\n",
       "      <td>Speeding</td>\n",
       "      <td>False</td>\n",
       "      <td>Citation</td>\n",
       "      <td>False</td>\n",
       "      <td>0-15 Min</td>\n",
       "      <td>False</td>\n",
       "    </tr>\n",
       "    <tr>\n",
       "      <th>2</th>\n",
       "      <td>1/23/2005</td>\n",
       "      <td>23:15</td>\n",
       "      <td>M</td>\n",
       "      <td>1972.0</td>\n",
       "      <td>33.0</td>\n",
       "      <td>White</td>\n",
       "      <td>Speeding</td>\n",
       "      <td>Speeding</td>\n",
       "      <td>False</td>\n",
       "      <td>Citation</td>\n",
       "      <td>False</td>\n",
       "      <td>0-15 Min</td>\n",
       "      <td>False</td>\n",
       "    </tr>\n",
       "    <tr>\n",
       "      <th>3</th>\n",
       "      <td>2/20/2005</td>\n",
       "      <td>17:15</td>\n",
       "      <td>M</td>\n",
       "      <td>1986.0</td>\n",
       "      <td>19.0</td>\n",
       "      <td>White</td>\n",
       "      <td>Call for Service</td>\n",
       "      <td>Other</td>\n",
       "      <td>False</td>\n",
       "      <td>Arrest Driver</td>\n",
       "      <td>True</td>\n",
       "      <td>16-30 Min</td>\n",
       "      <td>False</td>\n",
       "    </tr>\n",
       "    <tr>\n",
       "      <th>4</th>\n",
       "      <td>3/14/2005</td>\n",
       "      <td>10:00</td>\n",
       "      <td>F</td>\n",
       "      <td>1984.0</td>\n",
       "      <td>21.0</td>\n",
       "      <td>White</td>\n",
       "      <td>Speeding</td>\n",
       "      <td>Speeding</td>\n",
       "      <td>False</td>\n",
       "      <td>Citation</td>\n",
       "      <td>False</td>\n",
       "      <td>0-15 Min</td>\n",
       "      <td>False</td>\n",
       "    </tr>\n",
       "  </tbody>\n",
       "</table>\n",
       "</div>"
      ],
      "text/plain": [
       "   stop_date stop_time driver_gender  driver_age_raw  driver_age driver_race  \\\n",
       "0   1/2/2005      1:55             M          1985.0        20.0       White   \n",
       "1  1/18/2005      8:15             M          1965.0        40.0       White   \n",
       "2  1/23/2005     23:15             M          1972.0        33.0       White   \n",
       "3  2/20/2005     17:15             M          1986.0        19.0       White   \n",
       "4  3/14/2005     10:00             F          1984.0        21.0       White   \n",
       "\n",
       "      violation_raw violation  search_conducted   stop_outcome is_arrested  \\\n",
       "0          Speeding  Speeding             False       Citation       False   \n",
       "1          Speeding  Speeding             False       Citation       False   \n",
       "2          Speeding  Speeding             False       Citation       False   \n",
       "3  Call for Service     Other             False  Arrest Driver        True   \n",
       "4          Speeding  Speeding             False       Citation       False   \n",
       "\n",
       "  stop_duration  drugs_related_stop  \n",
       "0      0-15 Min               False  \n",
       "1      0-15 Min               False  \n",
       "2      0-15 Min               False  \n",
       "3     16-30 Min               False  \n",
       "4      0-15 Min               False  "
      ]
     },
     "execution_count": 8,
     "metadata": {},
     "output_type": "execute_result"
    }
   ],
   "source": [
    "df.head()"
   ]
  },
  {
   "cell_type": "code",
   "execution_count": 9,
   "id": "7fde441f",
   "metadata": {},
   "outputs": [
    {
     "data": {
      "text/plain": [
       "(65535, 13)"
      ]
     },
     "execution_count": 9,
     "metadata": {},
     "output_type": "execute_result"
    }
   ],
   "source": [
    "df.shape"
   ]
  },
  {
   "cell_type": "markdown",
   "id": "b3f3c190",
   "metadata": {},
   "source": [
    "##### Summary Statistics:\n",
    "Calculate basic summary statistics for numerical columns like driver_age_raw and driver_age. These statistics include mean, median, standard deviation, minimum, and maximum values. You can use Python's pandas library to achieve this."
   ]
  },
  {
   "cell_type": "code",
   "execution_count": 10,
   "id": "80c05435",
   "metadata": {},
   "outputs": [
    {
     "data": {
      "text/html": [
       "<div>\n",
       "<style scoped>\n",
       "    .dataframe tbody tr th:only-of-type {\n",
       "        vertical-align: middle;\n",
       "    }\n",
       "\n",
       "    .dataframe tbody tr th {\n",
       "        vertical-align: top;\n",
       "    }\n",
       "\n",
       "    .dataframe thead th {\n",
       "        text-align: right;\n",
       "    }\n",
       "</style>\n",
       "<table border=\"1\" class=\"dataframe\">\n",
       "  <thead>\n",
       "    <tr style=\"text-align: right;\">\n",
       "      <th></th>\n",
       "      <th>driver_age_raw</th>\n",
       "      <th>driver_age</th>\n",
       "    </tr>\n",
       "  </thead>\n",
       "  <tbody>\n",
       "    <tr>\n",
       "      <th>count</th>\n",
       "      <td>61481.000000</td>\n",
       "      <td>61228.000000</td>\n",
       "    </tr>\n",
       "    <tr>\n",
       "      <th>mean</th>\n",
       "      <td>1967.791106</td>\n",
       "      <td>34.148984</td>\n",
       "    </tr>\n",
       "    <tr>\n",
       "      <th>std</th>\n",
       "      <td>121.050106</td>\n",
       "      <td>12.760710</td>\n",
       "    </tr>\n",
       "    <tr>\n",
       "      <th>min</th>\n",
       "      <td>0.000000</td>\n",
       "      <td>15.000000</td>\n",
       "    </tr>\n",
       "    <tr>\n",
       "      <th>25%</th>\n",
       "      <td>1965.000000</td>\n",
       "      <td>23.000000</td>\n",
       "    </tr>\n",
       "    <tr>\n",
       "      <th>50%</th>\n",
       "      <td>1978.000000</td>\n",
       "      <td>31.000000</td>\n",
       "    </tr>\n",
       "    <tr>\n",
       "      <th>75%</th>\n",
       "      <td>1985.000000</td>\n",
       "      <td>43.000000</td>\n",
       "    </tr>\n",
       "    <tr>\n",
       "      <th>max</th>\n",
       "      <td>8801.000000</td>\n",
       "      <td>88.000000</td>\n",
       "    </tr>\n",
       "  </tbody>\n",
       "</table>\n",
       "</div>"
      ],
      "text/plain": [
       "       driver_age_raw    driver_age\n",
       "count    61481.000000  61228.000000\n",
       "mean      1967.791106     34.148984\n",
       "std        121.050106     12.760710\n",
       "min          0.000000     15.000000\n",
       "25%       1965.000000     23.000000\n",
       "50%       1978.000000     31.000000\n",
       "75%       1985.000000     43.000000\n",
       "max       8801.000000     88.000000"
      ]
     },
     "execution_count": 10,
     "metadata": {},
     "output_type": "execute_result"
    }
   ],
   "source": [
    "df.describe()"
   ]
  },
  {
   "cell_type": "markdown",
   "id": "ffdac8dd",
   "metadata": {},
   "source": [
    "##### Distribution Analysis:\n",
    "Create histograms or density plots to visualize the distribution of numerical variables like driver age. This will give you insights into the age distribution of the drivers in your dataset."
   ]
  },
  {
   "cell_type": "code",
   "execution_count": 11,
   "id": "ed5651c5",
   "metadata": {},
   "outputs": [
    {
     "data": {
      "image/png": "[encoded data removed]",
      "text/plain": [
       "<Figure size 1000x600 with 1 Axes>"
      ]
     },
     "metadata": {},
     "output_type": "display_data"
    }
   ],
   "source": [
    "plt.figure(figsize=(10, 6))\n",
    "sns.histplot(data=df, x='driver_age', bins=20, kde=True)\n",
    "plt.xlabel('Driver Age')\n",
    "plt.ylabel('Frequency')\n",
    "plt.title('Distribution of Driver Age')\n",
    "plt.show()"
   ]
  },
  {
   "cell_type": "markdown",
   "id": "f1ce3115",
   "metadata": {},
   "source": [
    "##### Categorical Analysis:\n",
    "For categorical variables like driver_gender, driver_race, and violation, you can calculate the counts of each category and visualize them using bar plots."
   ]
  },
  {
   "cell_type": "code",
   "execution_count": 12,
   "id": "012e0b5e",
   "metadata": {},
   "outputs": [
    {
     "data": {
      "image/png": "[encoded data removed]",
      "text/plain": [
       "<Figure size 1200x600 with 1 Axes>"
      ]
     },
     "metadata": {},
     "output_type": "display_data"
    }
   ],
   "source": [
    "# Calculate counts for categorical variables\n",
    "gender_counts = df['driver_gender'].value_counts()\n",
    "race_counts = df['driver_race'].value_counts()\n",
    "violation_counts = df['violation'].value_counts()\n",
    "\n",
    "# Create bar plots\n",
    "plt.figure(figsize=(12, 6))\n",
    "sns.barplot(x=gender_counts.index, y=gender_counts.values)\n",
    "plt.xlabel('Gender')\n",
    "plt.ylabel('Count')\n",
    "plt.title('Distribution of Driver Gender')\n",
    "plt.xticks(rotation=45)\n",
    "plt.show()"
   ]
  },
  {
   "cell_type": "markdown",
   "id": "04c4257b",
   "metadata": {},
   "source": [
    "##### Violation Analysis:\n",
    "Analyze the most common violations and their frequencies."
   ]
  },
  {
   "cell_type": "code",
   "execution_count": 13,
   "id": "e62e65b0",
   "metadata": {},
   "outputs": [
    {
     "data": {
      "text/plain": [
       "Speeding               37204\n",
       "Moving violation       11926\n",
       "Equipment               6516\n",
       "Other                   3583\n",
       "Registration/plates     2243\n",
       "Seat belt                  3\n",
       "Name: violation, dtype: int64"
      ]
     },
     "execution_count": 13,
     "metadata": {},
     "output_type": "execute_result"
    }
   ],
   "source": [
    "df['violation'].value_counts()"
   ]
  },
  {
   "cell_type": "code",
   "execution_count": 14,
   "id": "36b33be9",
   "metadata": {},
   "outputs": [
    {
     "data": {
      "image/png": "[encoded data removed]",
      "text/plain": [
       "<Figure size 1000x600 with 1 Axes>"
      ]
     },
     "metadata": {},
     "output_type": "display_data"
    }
   ],
   "source": [
    "# Create a bar plot for violation counts\n",
    "plt.figure(figsize=(10, 6))\n",
    "sns.barplot(x=violation_counts.index, y=violation_counts.values)\n",
    "plt.xlabel('Violation Type')\n",
    "plt.ylabel('Count')\n",
    "plt.title('Most Common Violations')\n",
    "plt.xticks(rotation=45)\n",
    "plt.show()\n"
   ]
  },
  {
   "cell_type": "markdown",
   "id": "4ac1787c",
   "metadata": {},
   "source": [
    "Gender Analysis:\n",
    "Analyze the distribution of traffic stops based on driver gender."
   ]
  },
  {
   "cell_type": "code",
   "execution_count": 19,
   "id": "09496517",
   "metadata": {},
   "outputs": [
    {
     "data": {
      "image/png": "[encoded data removed]",
      "text/plain": [
       "<Figure size 600x600 with 1 Axes>"
      ]
     },
     "metadata": {},
     "output_type": "display_data"
    }
   ],
   "source": [
    "# Calculate gender counts\n",
    "gender_counts = df['driver_gender'].value_counts()\n",
    "\n",
    "# Create a pie chart for gender distribution\n",
    "plt.figure(figsize=(6, 6))\n",
    "plt.pie(gender_counts, labels=gender_counts.index, autopct='%1.1f%%', startangle=140 )\n",
    "plt.title('Distribution of Traffic Stops by Gender')\n",
    "plt.show()"
   ]
  },
  {
   "cell_type": "markdown",
   "id": "59cd47d9",
   "metadata": {},
   "source": [
    "Race Analysis:\n",
    "Analyze the distribution of traffic stops based on driver race."
   ]
  },
  {
   "cell_type": "code",
   "execution_count": 20,
   "id": "80c9365e",
   "metadata": {},
   "outputs": [
    {
     "data": {
      "image/png": "[encoded data removed]",
      "text/plain": [
       "<Figure size 1000x600 with 1 Axes>"
      ]
     },
     "metadata": {},
     "output_type": "display_data"
    }
   ],
   "source": [
    "# Calculate race counts\n",
    "race_counts = df['driver_race'].value_counts()\n",
    "\n",
    "# Create a bar plot for race distribution\n",
    "plt.figure(figsize=(10, 6))\n",
    "sns.barplot(x=race_counts.index, y=race_counts.values)\n",
    "plt.xlabel('Driver Race')\n",
    "plt.ylabel('Count')\n",
    "plt.title('Distribution of Traffic Stops by Race')\n",
    "plt.xticks(rotation=45)\n",
    "plt.show()\n"
   ]
  },
  {
   "cell_type": "markdown",
   "id": "165d6cf4",
   "metadata": {},
   "source": [
    "Gender and Race Interaction:\n",
    "Explore whether there are any differences in violations or outcomes based on both gender and race."
   ]
  },
  {
   "cell_type": "code",
   "execution_count": 26,
   "id": "242158e3",
   "metadata": {},
   "outputs": [
    {
     "data": {
      "image/png": "[encoded data removed]",
      "text/plain": [
       "<Figure size 600x600 with 2 Axes>"
      ]
     },
     "metadata": {},
     "output_type": "display_data"
    }
   ],
   "source": [
    "#Create a heatmap of violations and outcomes by gender and race\n",
    "gender_race_analysis = df.pivot_table(index='driver_gender', columns='driver_race', values='violation', aggfunc='count')\n",
    "plt.figure(figsize=(6, 6))\n",
    "sns.heatmap(gender_race_analysis,cmap='YlGnBu', annot=True, fmt='d')\n",
    "plt.xlabel('Driver Race')\n",
    "plt.ylabel('Driver Gender')\n",
    "plt.title('Violations by Gender and Race')\n",
    "plt.show()\n"
   ]
  },
  {
   "cell_type": "code",
   "execution_count": 23,
   "id": "843ec8a6",
   "metadata": {},
   "outputs": [
    {
     "name": "stdout",
     "output_type": "stream",
     "text": [
      "driver_race    Asian  Black  Hispanic  Other  White\n",
      "driver_gender                                      \n",
      "F                366   1634      1014     23  13273\n",
      "M               1273   6633      4597    188  32473\n"
     ]
    }
   ],
   "source": [
    "gender_race_analysis = df.pivot_table(index='driver_gender', columns='driver_race', values='violation', aggfunc='count')\n",
    "print(gender_race_analysis)"
   ]
  },
  {
   "cell_type": "markdown",
   "id": "d4cbc4a7",
   "metadata": {},
   "source": [
    "Violation Outcomes:\n",
    "Analyze the outcomes (such as citations or arrests) associated with different violation types."
   ]
  },
  {
   "cell_type": "code",
   "execution_count": null,
   "id": "5f5cbd66",
   "metadata": {},
   "outputs": [],
   "source": [
    "# Create a pivot table for violation outcomes\n",
    "violation_outcomes = df.pivot_table(index='violation', columns='stop_outcome', values='driver_gender', aggfunc='count')\n",
    "print(violation_outcomes)\n",
    "# Create a stacked bar plot for violation outcomes\n",
    "plt.figure(figsize=(12, 6))\n",
    "violation_outcomes.plot(kind='bar', stacked=True)\n",
    "plt.xlabel('Violation Type')\n",
    "plt.ylabel('Count')\n",
    "plt.title('Outcomes by Violation Type')\n",
    "plt.xticks(rotation=45)\n",
    "plt.legend(title='Stop Outcome')\n",
    "plt.show()\n"
   ]
  },
  {
   "cell_type": "markdown",
   "id": "f3156c6b",
   "metadata": {},
   "source": [
    "Violation and Search Conducted:\n",
    "Explore whether certain violation types are more likely to result in searches being conducted."
   ]
  },
  {
   "cell_type": "code",
   "execution_count": null,
   "id": "3452103e",
   "metadata": {},
   "outputs": [],
   "source": [
    "# Create a pivot table for violation and search conducted\n",
    "violation_search = df.pivot_table(index='violation', columns='search_conducted', values='driver_gender', aggfunc='count')\n",
    "\n",
    "# Create a stacked bar plot for violation and search conducted\n",
    "plt.figure(figsize=(12, 6))\n",
    "violation_search.plot(kind='bar', stacked=True)\n",
    "plt.xlabel('Violation Type')\n",
    "plt.ylabel('Count')\n",
    "plt.title('Search Conducted by Violation Type')\n",
    "plt.xticks(rotation=45)\n",
    "plt.legend(title='Search Conducted')\n",
    "plt.show()\n"
   ]
  },
  {
   "cell_type": "markdown",
   "id": "bb11c31a",
   "metadata": {},
   "source": [
    "Search Conducted Analysis:\n",
    "Analyze the frequency of searches conducted during traffic stops and their outcomes."
   ]
  },
  {
   "cell_type": "code",
   "execution_count": null,
   "id": "243b3144",
   "metadata": {},
   "outputs": [],
   "source": [
    "# Calculate search conducted counts\n",
    "search_counts = df['search_conducted'].value_counts()\n",
    "\n",
    "# Create a pie chart for search conducted distribution\n",
    "plt.figure(figsize=(6, 6))\n",
    "plt.pie(search_counts, labels=search_counts.index, autopct='%1.1f%%', startangle=140)\n",
    "plt.title('Search Conducted during Traffic Stops')\n",
    "plt.show()"
   ]
  },
  {
   "cell_type": "markdown",
   "id": "1b6a8df9",
   "metadata": {},
   "source": [
    "Search Type Analysis:\n",
    "If available, analyze the different types of searches conducted during traffic stops."
   ]
  },
  {
   "cell_type": "code",
   "execution_count": null,
   "id": "fbd2dff4",
   "metadata": {},
   "outputs": [],
   "source": [
    "# Calculate search type counts\n",
    "search_type_counts = df['search_conducted'].value_counts()\n",
    "\n",
    "# Create a bar plot for search type counts\n",
    "plt.figure(figsize=(10, 6))\n",
    "sns.barplot(x=search_type_counts.index, y=search_type_counts.values)\n",
    "plt.xlabel('Search Type')\n",
    "plt.ylabel('Count')\n",
    "plt.title('Distribution of Search Types')\n",
    "plt.xticks(rotation=45)\n",
    "plt.show()\n"
   ]
  },
  {
   "cell_type": "markdown",
   "id": "bc08b55b",
   "metadata": {},
   "source": [
    "Arrest Analysis:\n",
    "Analyze the frequency of arrests made during traffic stops and the distribution of arrest outcomes."
   ]
  },
  {
   "cell_type": "code",
   "execution_count": null,
   "id": "7a8aa7e3",
   "metadata": {},
   "outputs": [],
   "source": [
    "# Calculate arrest counts\n",
    "arrest_counts = df['is_arrested'].value_counts()\n",
    "\n",
    "# Create a pie chart for arrest distribution\n",
    "plt.figure(figsize=(6, 6))\n",
    "plt.pie(arrest_counts, labels=arrest_counts.index, autopct='%1.1f%%', startangle=140)\n",
    "plt.title('Arrests during Traffic Stops')\n",
    "plt.show()\n"
   ]
  },
  {
   "cell_type": "markdown",
   "id": "bf0e3046",
   "metadata": {},
   "source": [
    "Search and Arrest Relationship:\n",
    "Explore whether searches are more likely to lead to arrests."
   ]
  },
  {
   "cell_type": "code",
   "execution_count": null,
   "id": "bb972397",
   "metadata": {},
   "outputs": [],
   "source": [
    "# Create a pivot table for search and arrest relationship\n",
    "search_arrest = df.pivot_table(index='search_conducted', columns='is_arrested', values='driver_gender', aggfunc='count')\n",
    "\n",
    "# Create a stacked bar plot for search and arrest relationship\n",
    "plt.figure(figsize=(8, 6))\n",
    "search_arrest.plot(kind='bar', stacked=True)\n",
    "plt.xlabel('Search Conducted')\n",
    "plt.ylabel('Count')\n",
    "plt.title('Search and Arrest Relationship')\n",
    "plt.xticks(rotation=0)\n",
    "plt.legend(title='Is Arrested')\n",
    "plt.show()\n"
   ]
  },
  {
   "cell_type": "markdown",
   "id": "df94e574",
   "metadata": {},
   "source": [
    "Date and Time Parsing:\n",
    "If your dataset has separate columns for stop_date and stop_time, you can combine them into a single datetime column for better analysis."
   ]
  },
  {
   "cell_type": "code",
   "execution_count": null,
   "id": "a9fc3803",
   "metadata": {},
   "outputs": [],
   "source": [
    "# Combine date and time columns into a single datetime column\n",
    "df['stop_datetime'] = pd.to_datetime(df['stop_date'].astype(str) + ' ' + df['stop_time'].astype(str))\n",
    "\n",
    "# Extract day of the week and hour of the day\n",
    "df['day_of_week'] = df['stop_datetime'].dt.day_name()\n",
    "df['hour_of_day'] = df['stop_datetime'].dt.hour"
   ]
  },
  {
   "cell_type": "code",
   "execution_count": null,
   "id": "7404e028",
   "metadata": {},
   "outputs": [],
   "source": [
    "df.head()"
   ]
  },
  {
   "cell_type": "markdown",
   "id": "4a5833f5",
   "metadata": {},
   "source": [
    "Day of the Week Analysis:\n",
    "Analyze the distribution of traffic stops over different days of the week."
   ]
  },
  {
   "cell_type": "code",
   "execution_count": null,
   "id": "888fdaf7",
   "metadata": {},
   "outputs": [],
   "source": [
    "\n",
    "# Calculate day of the week counts\n",
    "day_counts = df['day_of_week'].value_counts()\n",
    "\n",
    "# Create a bar plot for day of the week counts\n",
    "plt.figure(figsize=(10, 6))\n",
    "sns.barplot(x=day_counts.index, y=day_counts.values)\n",
    "plt.xlabel('Day of the Week')\n",
    "plt.ylabel('Count')\n",
    "plt.title('Distribution of Traffic Stops by Day of the Week')\n",
    "plt.xticks(rotation=45)\n",
    "plt.show()\n"
   ]
  },
  {
   "cell_type": "markdown",
   "id": "6a671dd3",
   "metadata": {},
   "source": [
    "Hour of the Day Analysis:\n",
    "Analyze the distribution of traffic stops over different hours of the day."
   ]
  },
  {
   "cell_type": "code",
   "execution_count": null,
   "id": "db581fa9",
   "metadata": {},
   "outputs": [],
   "source": [
    "# Calculate hour of the day counts\n",
    "hour_counts = df['hour_of_day'].value_counts()\n",
    "\n",
    "# Create a line plot for hour of the day counts\n",
    "plt.figure(figsize=(12, 6))\n",
    "sns.lineplot(x=hour_counts.index, y=hour_counts.values)\n",
    "plt.xlabel('Hour of the Day')\n",
    "plt.ylabel('Count')\n",
    "plt.title('Distribution of Traffic Stops by Hour of the Day')\n",
    "plt.show()\n"
   ]
  },
  {
   "cell_type": "markdown",
   "id": "ff529b9e",
   "metadata": {},
   "source": [
    "Time-Based Violation Analysis:\n",
    "Explore whether there are certain days or hours when specific violations are more common."
   ]
  },
  {
   "cell_type": "code",
   "execution_count": null,
   "id": "ceae3cde",
   "metadata": {},
   "outputs": [],
   "source": [
    "# Create a heatmap of violations by day of the week and hour of the day\n",
    "violations_by_time = df.pivot_table(index='day_of_week', columns='hour_of_day', values='violation', aggfunc='count')\n",
    "plt.figure(figsize=(12, 8))\n",
    "sns.heatmap(violations_by_time, cmap='YlGnBu', annot=True, fmt='d')\n",
    "plt.xlabel('Hour of the Day')\n",
    "plt.ylabel('Day of the Week')\n",
    "plt.title('Violations by Day of the Week and Hour of the Day')\n",
    "plt.show()\n"
   ]
  },
  {
   "cell_type": "code",
   "execution_count": null,
   "id": "3b0b2d68-360c-4396-bd84-58c9085ff849",
   "metadata": {},
   "outputs": [],
   "source": [
    "#For Speeding were men or women stopped more often?\n",
    "df[df.violation=='Speeding'].driver_gender.value_counts()"
   ]
  },
  {
   "cell_type": "code",
   "execution_count": null,
   "id": "72cf2591",
   "metadata": {},
   "outputs": [],
   "source": []
  },
  {
   "cell_type": "code",
   "execution_count": null,
   "id": "33549785-c94c-4f89-8716-098c8753731a",
   "metadata": {},
   "outputs": [],
   "source": [
    "#Does gender affect who gets searched during a stop?\n",
    "df.groupby(\"driver_gender\").search_conducted.sum()"
   ]
  },
  {
   "cell_type": "code",
   "execution_count": null,
   "id": "7f9431cc-db46-4ecc-98f1-5bfc267703df",
   "metadata": {},
   "outputs": [],
   "source": [
    "df.search_conducted.value_counts()"
   ]
  },
  {
   "cell_type": "code",
   "execution_count": null,
   "id": "4b713753-bdea-445f-be67-7498418596fb",
   "metadata": {},
   "outputs": [],
   "source": [
    "#What is the mean of stop_duration?\n",
    "df.stop_duration.value_counts()"
   ]
  },
  {
   "cell_type": "code",
   "execution_count": null,
   "id": "337459d3-1d38-4f9b-9c75-aaf4cb630420",
   "metadata": {},
   "outputs": [],
   "source": [
    "df[\"stop_duration\"]=df[\"stop_duration\"].map({'0-15 Min':7.5,'16-30 Min':24, '30+ Min':45})"
   ]
  },
  {
   "cell_type": "code",
   "execution_count": null,
   "id": "900435b0-1299-42c5-a615-f76884565413",
   "metadata": {},
   "outputs": [],
   "source": [
    "df.head(2)"
   ]
  },
  {
   "cell_type": "code",
   "execution_count": null,
   "id": "cd2d8952-ca5a-4b94-8266-b7092da6be01",
   "metadata": {},
   "outputs": [],
   "source": [
    "df[\"stop_duration\"].mean()"
   ]
  },
  {
   "cell_type": "code",
   "execution_count": null,
   "id": "41a3c9fb-6737-4f1e-897d-7b6555e5c398",
   "metadata": {},
   "outputs": [],
   "source": [
    "#Compare age distrubition for each viloation\n",
    "df.groupby('violation').driver_age.describe()"
   ]
  },
  {
   "cell_type": "code",
   "execution_count": null,
   "id": "374b3bd5-52af-46fe-b0fd-c586f467de3c",
   "metadata": {},
   "outputs": [],
   "source": [
    "#compare race and drugs_related_stop\n",
    "df.groupby('drugs_related_stop').driver_race.value_counts()"
   ]
  },
  {
   "cell_type": "code",
   "execution_count": null,
   "id": "012bd2cb",
   "metadata": {},
   "outputs": [],
   "source": [
    "df.groupby('stop_duration').driver_race.value_counts()"
   ]
  },
  {
   "cell_type": "code",
   "execution_count": null,
   "id": "b188839b",
   "metadata": {},
   "outputs": [],
   "source": [
    "\n",
    "# Create histograms\n",
    "plt.figure(figsize=(10, 6))\n",
    "sns.histplot(data=df, x='driver_age', bins=20, kde=True)\n",
    "plt.xlabel('Driver Age')\n",
    "plt.ylabel('Frequency')\n",
    "plt.title('Distribution of Driver Age')\n",
    "plt.show()"
   ]
  },
  {
   "cell_type": "code",
   "execution_count": null,
   "id": "81aabcb0",
   "metadata": {},
   "outputs": [],
   "source": []
  }
 ],
 "metadata": {
  "kernelspec": {
   "display_name": "Python 3 (ipykernel)",
   "language": "python",
   "name": "python3"
  },
  "language_info": {
   "codemirror_mode": {
    "name": "ipython",
    "version": 3
   },
   "file_extension": ".py",
   "mimetype": "text/x-python",
   "name": "python",
   "nbconvert_exporter": "python",
   "pygments_lexer": "ipython3",
   "version": "3.10.7"
  }
 },
 "nbformat": 4,
 "nbformat_minor": 5
}
